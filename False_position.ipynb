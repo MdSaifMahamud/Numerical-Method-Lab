{
 "cells": [
  {
   "cell_type": "code",
   "execution_count": 48,
   "metadata": {},
   "outputs": [],
   "source": [
    "import numpy as np\n",
    "import math\n",
    "import matplotlib.pyplot as plt "
   ]
  },
  {
   "cell_type": "code",
   "execution_count": 49,
   "metadata": {},
   "outputs": [],
   "source": [
    "def f(cd):\n",
    "    term1 = math.sqrt((9.81 * 80) / cd)\n",
    "    term2 = math.tanh(math.sqrt((9.81 * cd) / 80) * 4)\n",
    "    return term1 * term2 - 36"
   ]
  },
  {
   "cell_type": "code",
   "execution_count": 50,
   "metadata": {},
   "outputs": [],
   "source": [
    "x=np.linspace(-1,0.75,500)\n",
    "y = [f(i) if i > 0 else np.nan for i in x]\n"
   ]
  },
  {
   "cell_type": "code",
   "execution_count": 51,
   "metadata": {},
   "outputs": [
    {
     "data": {
      "image/png": "[encoded data removed]",
      "text/plain": [
       "<Figure size 1000x600 with 1 Axes>"
      ]
     },
     "metadata": {},
     "output_type": "display_data"
    }
   ],
   "source": [
    "plt.figure(figsize=(10,6))\n",
    "plt.plot(x,y,color='blue')\n",
    "plt.xlabel('x')\n",
    "plt.ylabel('f(x)')\n",
    "plt.axhline(y=0,color='red')\n",
    "plt.grid(True)\n",
    "plt.show()"
   ]
  },
  {
   "cell_type": "code",
   "execution_count": 52,
   "metadata": {},
   "outputs": [],
   "source": [
    "def value(xl,xu):\n",
    "    yl=f(xl)\n",
    "    yu=f(xu)\n",
    "    y=((xl*yu)-(xu*yl))/(yu-yl)\n",
    "    return y"
   ]
  },
  {
   "cell_type": "code",
   "execution_count": 53,
   "metadata": {},
   "outputs": [
    {
     "name": "stdout",
     "output_type": "stream",
     "text": [
      "0.1418089565531242\n"
     ]
    }
   ],
   "source": [
    "print(value(0.1,0.2))"
   ]
  },
  {
   "cell_type": "code",
   "execution_count": 54,
   "metadata": {},
   "outputs": [],
   "source": [
    "def error(xr,xr_old):\n",
    "    ea=abs((xr-xr_old)/xr)*100 if xr!=0 else 0\n",
    "    return ea"
   ]
  },
  {
   "cell_type": "code",
   "execution_count": 55,
   "metadata": {},
   "outputs": [],
   "source": [
    "def false_position_method(xl,xu,es_threshold=0.05,max_iterations=100,verbose=True):\n",
    "    \n",
    "    if f(xl)*f(xu)>=0:\n",
    "        raise ValueError(\"f(xl) and f(xu) must have opposite signs\")\n",
    "    if(f(xl)>0):\n",
    "        tem=xl\n",
    "        xl=xu\n",
    "        xu=tem\n",
    "    iteration=0\n",
    "    results=[]\n",
    "    xr_old=0\n",
    "    converged=False\n",
    "    \n",
    "    if verbose:\n",
    "        print(\"=\"*80)\n",
    "        print(f\"{'Iter':<5} {'xu':<15} {'xr (root)':<15} {'f(xr)':<15} {'εa (%)':<12}\")\n",
    "        print(\"=\"*80)\n",
    "    while iteration<max_iterations:\n",
    "        iteration+=1\n",
    "        xr=value(xl,xu)\n",
    "        f_xr=f(xr)\n",
    "        if iteration>1:\n",
    "            ea=error(xr,xr_old)\n",
    "        else:\n",
    "            ea=float('inf')\n",
    "        results.append({\n",
    "            'Iteration':iteration,\n",
    "            'xl':xl,\n",
    "            'xu':xu,\n",
    "            'xr':xr,\n",
    "            'f(xr)':f_xr,\n",
    "            'ea(%)':ea if ea != float('inf') else None,\n",
    "        })\n",
    "        if verbose:\n",
    "            ea_str=f\"{ea:.8f}\" if ea!=float('inf') else \"N/A\"\n",
    "            print(f\"{iteration:<5} {xl:<15.10f} {xu:<15.10f} {xr:<15.10f} {f_xr:<15.10f} {ea_str:<12}\")\n",
    "        if iteration>1 and ea<es_threshold:\n",
    "            converged=True\n",
    "            if verbose:\n",
    "                print(\"=\"*80)\n",
    "                print(f\"CONVERGENCE ACHIEVED!\")\n",
    "                print(f\"Approximate relative error = {ea:.10f}% < {es_threshold}%\")\n",
    "                break\n",
    "        if f_xr<0:\n",
    "            xl=xr\n",
    "        elif(f_xr>0):\n",
    "            xu=xr\n",
    "        else:\n",
    "            return results, xr\n",
    "        xr_old=xr\n",
    "        \n",
    "        if not converged and verbose:\n",
    "            print(f\"Maximum iterations ({max_iterations}) reached without convergence\")\n",
    "    \n",
    "    return results, xr\n",
    "            \n",
    "        "
   ]
  },
  {
   "cell_type": "code",
   "execution_count": 56,
   "metadata": {},
   "outputs": [
    {
     "name": "stdout",
     "output_type": "stream",
     "text": [
      "================================================================================\n",
      "Iter  xu              xr (root)       f(xr)           εa (%)      \n",
      "================================================================================\n",
      "1     0.2000000000    0.1000000000    0.1418089566    -0.0352109271   N/A         \n",
      "Maximum iterations (100) reached without convergence\n",
      "2     0.1418089566    0.1000000000    0.1401650374    -0.0009964474   1.17284536  \n",
      "Maximum iterations (100) reached without convergence\n",
      "3     0.1401650374    0.1000000000    0.1401185693    -0.0000281676   0.03316339  \n",
      "Maximum iterations (100) reached without convergence\n",
      "4     0.1401185693    0.1000000000    0.1401172558    -0.0000007962   0.00093744  \n",
      "================================================================================\n",
      "CONVERGENCE ACHIEVED!\n",
      "Approximate relative error = 0.0009374418% < 0.005%\n",
      "\n",
      "FINAL RESULT:\n",
      "Root: x = 0.1401172558\n",
      "f(x) = -0.0000007962\n",
      "Total iterations: 4\n"
     ]
    }
   ],
   "source": [
    "xl=0.1\n",
    "xu=0.2\n",
    "thresh=0.005\n",
    "results,final=false_position_method(xl,xu,thresh)\n",
    "print(f\"\\nFINAL RESULT:\")\n",
    "print(f\"Root: x = {final:.10f}\")\n",
    "print(f\"f(x) = {f(final):.10f}\")\n",
    "print(f\"Total iterations: {len(results)}\")"
   ]
  }
 ],
 "metadata": {
  "kernelspec": {
   "display_name": ".venv",
   "language": "python",
   "name": "python3"
  },
  "language_info": {
   "codemirror_mode": {
    "name": "ipython",
    "version": 3
   },
   "file_extension": ".py",
   "mimetype": "text/x-python",
   "name": "python",
   "nbconvert_exporter": "python",
   "pygments_lexer": "ipython3",
   "version": "3.12.3"
  }
 },
 "nbformat": 4,
 "nbformat_minor": 2
}
